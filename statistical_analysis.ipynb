{
 "cells": [
  {
   "cell_type": "markdown",
   "metadata": {
    "colab": {
     "base_uri": "https://localhost:8080/"
    },
    "id": "N8umCllxyCaS",
    "outputId": "a3500d83-d39a-41df-ff00-047b662b3e4a"
   },
   "source": [
    "Requirements:\n",
    "\n",
    "pip install lpips\n",
    "\n",
    "pip install torchmetrics"
   ]
  },
  {
   "cell_type": "code",
   "execution_count": 3,
   "metadata": {
    "id": "zm9e8u2kc3MF"
   },
   "outputs": [],
   "source": [
    "import cv2\n",
    "from PIL import Image\n",
    "import numpy as np\n",
    "from matplotlib import pyplot as plt\n",
    "from tqdm.notebook import tqdm\n",
    "from PIL import Image\n",
    "from torchvision import transforms\n",
    "from os import listdir\n",
    "from os.path import isfile, join\n",
    "import glob\n",
    "import os\n",
    "import PIL.Image\n",
    "import six.moves.queue as Queue\n",
    "import threading\n",
    "import os\n",
    "import sys\n",
    "import glob\n",
    "import argparse\n",
    "import threading\n",
    "import six.moves.queue as Queue\n",
    "import traceback\n",
    "import numpy as np\n",
    "import tensorflow as tf\n",
    "import torch\n",
    "from PIL import Image\n",
    "import torchvision.transforms as transforms\n",
    "import lpips\n",
    "import pandas as pd\n",
    "from torchmetrics import StructuralSimilarityIndexMeasure\n",
    "from sklearn.linear_model import LinearRegression\n",
    "from sklearn.metrics import mean_squared_error, r2_score"
   ]
  },
  {
   "cell_type": "code",
   "execution_count": 4,
   "metadata": {
    "colab": {
     "base_uri": "https://localhost:8080/",
     "height": 191,
     "referenced_widgets": [
      "e66710d79b42415eae8a86e6ad7c7369",
      "9d3210275c26404e83d4d3d17286aa00",
      "a30451d393d249688e30b9acebbcb9a2",
      "f6bd763f6d8d46d8b89e529044ea6ed1",
      "e1e0b8c044b74428b78fe9433df2c6df",
      "2e7247a4c0e8460e84af678780e5c95c",
      "5e65baa512f84377aa4cddf643dede45",
      "3004c4ea906548d89991a388d7b52853",
      "0a059e4caad54bc196b1eccd447ff223",
      "4e4101f30c4d424bb5546a339aecdba9",
      "de5780cc07774659b1576b917cabb262"
     ]
    },
    "id": "JmJVx5fpzGB1",
    "outputId": "7bc63dfc-e490-4025-89ff-abcaf2b58dd7"
   },
   "outputs": [
    {
     "name": "stdout",
     "output_type": "stream",
     "text": [
      "Setting up [LPIPS] perceptual loss: trunk [vgg], v[0.1], spatial [off]\n"
     ]
    },
    {
     "name": "stderr",
     "output_type": "stream",
     "text": [
      "/usr/local/lib/python3.8/dist-packages/torchvision/models/_utils.py:208: UserWarning: The parameter 'pretrained' is deprecated since 0.13 and may be removed in the future, please use 'weights' instead.\n",
      "  warnings.warn(\n",
      "/usr/local/lib/python3.8/dist-packages/torchvision/models/_utils.py:223: UserWarning: Arguments other than a weight enum or `None` for 'weights' are deprecated since 0.13 and may be removed in the future. The current behavior is equivalent to passing `weights=VGG16_Weights.IMAGENET1K_V1`. You can also use `weights=VGG16_Weights.DEFAULT` to get the most up-to-date weights.\n",
      "  warnings.warn(msg)\n",
      "Downloading: \"https://download.pytorch.org/models/vgg16-397923af.pth\" to /root/.cache/torch/hub/checkpoints/vgg16-397923af.pth\n"
     ]
    },
    {
     "data": {
      "application/vnd.jupyter.widget-view+json": {
       "model_id": "e66710d79b42415eae8a86e6ad7c7369",
       "version_major": 2,
       "version_minor": 0
      },
      "text/plain": [
       "  0%|          | 0.00/528M [00:00<?, ?B/s]"
      ]
     },
     "metadata": {},
     "output_type": "display_data"
    },
    {
     "name": "stdout",
     "output_type": "stream",
     "text": [
      "Loading model from: /usr/local/lib/python3.8/dist-packages/lpips/weights/v0.1/vgg.pth\n"
     ]
    }
   ],
   "source": [
    "my_lpips = lpips.LPIPS(net='vgg')"
   ]
  },
  {
   "cell_type": "code",
   "execution_count": 5,
   "metadata": {
    "id": "4qSvQitt6s_E"
   },
   "outputs": [],
   "source": [
    "ssim = StructuralSimilarityIndexMeasure()"
   ]
  },
  {
   "cell_type": "code",
   "execution_count": 7,
   "metadata": {
    "id": "B4xr5DuCet4W"
   },
   "outputs": [],
   "source": [
    "def compute_similarity(folder_path):\n",
    "    df = pd.DataFrame(columns=['age','gender','ethnicity','LPIPS'])\n",
    "    import scipy.ndimage\n",
    "    inpainted_folder_path = os.path.join(folder_path,'inpainted')\n",
    "    gt_folder_path = os.path.join(folder_path,'gt')\n",
    "    list_images = [f for f in listdir(gt_folder_path) if isfile(join(gt_folder_path, f))]\n",
    "    transform = transforms.Compose([\n",
    "        transforms.PILToTensor()\n",
    "    ])\n",
    "    for i,image_name in enumerate(list_images):\n",
    "        gt_img = PIL.Image.open(os.path.join(gt_folder_path, image_name))\n",
    "        gt_img_tensor = transform(gt_img)\n",
    "        gt_img_array = np.asarray(gt_img)\n",
    "        inpainted_img = PIL.Image.open(os.path.join(inpainted_folder_path, image_name))\n",
    "        inpainted_img_tensor = transform(inpainted_img)\n",
    "        inpainted_img_array = np.asarray(inpainted_img)\n",
    "        df_new = pd.DataFrame({'age':[image_name[9:11]],\n",
    "                             'gender':[image_name[12]],\n",
    "                             'ethnicity':[image_name[14]],\n",
    "                             'LPIPS':[float(my_lpips(gt_img_tensor,inpainted_img_tensor))],\n",
    "                             'SSIM':[float(ssim(inpainted_img_tensor.float().unsqueeze(0),gt_img_tensor.float().unsqueeze(0)))]},\n",
    "                             index=[i])\n",
    "        df = df.append(df_new)\n",
    "    return df"
   ]
  },
  {
   "cell_type": "code",
   "execution_count": 8,
   "metadata": {
    "id": "LTJ8S1idz7ki"
   },
   "outputs": [],
   "source": [
    "folder_path = 'inpainting_results'\n",
    "df_similarity = compute_similarity(folder_path)"
   ]
  },
  {
   "cell_type": "code",
   "execution_count": 26,
   "metadata": {
    "id": "7nKsin1jcDmQ"
   },
   "outputs": [],
   "source": [
    "df_similarity['age_category'] = df_similarity['age'].apply(lambda n:0 if int(n)<30 else 1 if int(n)<60 else 2)"
   ]
  },
  {
   "cell_type": "markdown",
   "metadata": {},
   "source": [
    "## Effect of belonging to several minorities on the inpainting quality\n",
    "\n",
    "Regression on binary variables"
   ]
  },
  {
   "cell_type": "code",
   "execution_count": 35,
   "metadata": {
    "id": "q_dXXfWni6HN"
   },
   "outputs": [],
   "source": [
    "mean_old_indian = df_similarity[(df_similarity['age_category']==2)&(df_similarity['ethnicity']=='3')]['SSIM'].mean()\n",
    "mean_old_non_indian = df_similarity[(df_similarity['age_category']==2)&(df_similarity['ethnicity']!='3')]['SSIM'].mean()\n",
    "mean_non_old_indian = df_similarity[(df_similarity['age_category']!=2)&(df_similarity['ethnicity']=='3')]['SSIM'].mean()\n",
    "mean_non_old_non_indian = df_similarity[(df_similarity['age_category']!=2)&(df_similarity['ethnicity']!='3')]['SSIM'].mean()\n",
    "print(f'The estimation of delta is {mean_old_indian-mean_old_non_indian-mean_non_old_indian+mean_non_old_non_indian}')"
   ]
  },
  {
   "cell_type": "code",
   "execution_count": 40,
   "metadata": {
    "colab": {
     "base_uri": "https://localhost:8080/"
    },
    "id": "9COU18P2rNCy",
    "outputId": "4b47644f-14d3-4c86-90d7-ab07917dbfbb"
   },
   "outputs": [
    {
     "data": {
      "text/plain": [
       "-0.014328027727586456"
      ]
     },
     "execution_count": 40,
     "metadata": {},
     "output_type": "execute_result"
    }
   ],
   "source": [
    "mean_old_indian-mean_old_non_indian-mean_non_old_indian+mean_non_old_non_indian"
   ]
  },
  {
   "cell_type": "markdown",
   "metadata": {
    "id": "_g9Pf5dlXkVR"
   },
   "source": [
    "# Regressions using the mean"
   ]
  },
  {
   "cell_type": "code",
   "execution_count": 9,
   "metadata": {
    "id": "wtYs5caKv2fV"
   },
   "outputs": [],
   "source": [
    "df_similarity_gender = df_similarity.groupby('gender').agg('mean')\n",
    "\n",
    "df_similarity_ethnicity = df_similarity.groupby('ethnicity').agg('mean')\n",
    "\n",
    "df_similarity_age = df_similarity\n",
    "df_similarity_age['age_category'] = df_similarity_age['age'].apply(lambda n:0 if int(n)<30 else 1 if int(n)<60 else 2)\n",
    "df_similarity_age = df_similarity_age.groupby('age_category').agg('mean')"
   ]
  },
  {
   "cell_type": "markdown",
   "metadata": {
    "id": "3B7RkGV5yUrb"
   },
   "source": [
    "Linear regression on the age category"
   ]
  },
  {
   "cell_type": "code",
   "execution_count": 10,
   "metadata": {
    "id": "JGuNveGNzdTU"
   },
   "outputs": [],
   "source": [
    "X_age = np.array([[44.7],[55.3],[0.]])\n",
    "Y_age = df_similarity_age['LPIPS'].values\n",
    "\n",
    "reg = LinearRegression().fit(X_age, Y_age)\n",
    "Y_pred = reg.predict(X_age)"
   ]
  },
  {
   "cell_type": "code",
   "execution_count": 11,
   "metadata": {
    "colab": {
     "base_uri": "https://localhost:8080/",
     "height": 321
    },
    "id": "RnC-DQNGze-1",
    "outputId": "06e06be5-fce9-40d3-a438-f90f6dc144eb"
   },
   "outputs": [
    {
     "name": "stdout",
     "output_type": "stream",
     "text": [
      "Coefficients: \n",
      " [-0.00030359]\n",
      "Mean squared error: 0.00\n",
      "Coefficient of determination: 0.81\n"
     ]
    },
    {
     "data": {
      "image/png": "[encoded data removed]",
      "text/plain": [
       "<Figure size 432x288 with 1 Axes>"
      ]
     },
     "metadata": {},
     "output_type": "display_data"
    }
   ],
   "source": [
    "from sklearn.metrics import mean_squared_error, r2_score\n",
    "\n",
    "print(\"Coefficients: \\n\", reg.coef_)\n",
    "# The mean squared error\n",
    "print(\"Mean squared error: %.2f\" % mean_squared_error(Y_age, Y_pred))\n",
    "# The coefficient of determination: 1 is perfect prediction\n",
    "print(\"Coefficient of determination: %.2f\" % r2_score(Y_age, Y_pred))\n",
    "\n",
    "plt.scatter(X_age,Y_age,color='black')\n",
    "plt.plot(X_age,Y_pred,color='blue',linewidth=3)\n",
    "plt.xticks(())\n",
    "plt.yticks(())\n",
    "\n",
    "plt.show()"
   ]
  },
  {
   "cell_type": "markdown",
   "metadata": {
    "id": "xwhsbCUU0Qz7"
   },
   "source": [
    "Linear regression of LPIPS on the ethnicity"
   ]
  },
  {
   "cell_type": "code",
   "execution_count": 12,
   "metadata": {
    "id": "UiVT73wg2DYV"
   },
   "outputs": [],
   "source": [
    "X_ethnicity = np.array([[72.9],[4.6],[6.3],[0.9]])\n",
    "Y_ethnicity = df_similarity_ethnicity['LPIPS'].values\n",
    "\n",
    "reg_ethnicity = LinearRegression().fit(X_ethnicity, Y_ethnicity)\n",
    "Y_pred_ethnicity = reg_ethnicity.predict(X_ethnicity)"
   ]
  },
  {
   "cell_type": "code",
   "execution_count": 13,
   "metadata": {
    "colab": {
     "base_uri": "https://localhost:8080/",
     "height": 321
    },
    "id": "d9c7A2Ot0qL4",
    "outputId": "c8d578b4-e447-481d-aee8-6c17cc234de4"
   },
   "outputs": [
    {
     "name": "stdout",
     "output_type": "stream",
     "text": [
      "Coefficients: \n",
      " [-0.00017117]\n",
      "Mean squared error: 0.00\n",
      "Coefficient of determination: 0.44\n"
     ]
    },
    {
     "data": {
      "image/png": "[encoded data removed]",
      "text/plain": [
       "<Figure size 432x288 with 1 Axes>"
      ]
     },
     "metadata": {},
     "output_type": "display_data"
    }
   ],
   "source": [
    "print(\"Coefficients: \\n\", reg_ethnicity.coef_)\n",
    "# The mean squared error\n",
    "print(\"Mean squared error: %.2f\" % mean_squared_error(Y_ethnicity, Y_pred_ethnicity))\n",
    "# The coefficient of determination: 1 is perfect prediction\n",
    "print(\"Coefficient of determination: %.2f\" % r2_score(Y_ethnicity, Y_pred_ethnicity))\n",
    "\n",
    "plt.scatter(X_ethnicity,Y_ethnicity,color='black')\n",
    "plt.plot(X_ethnicity,Y_pred_ethnicity,color='blue',linewidth=3)\n",
    "plt.xticks(())\n",
    "plt.yticks(())\n",
    "\n",
    "plt.show()"
   ]
  },
  {
   "cell_type": "markdown",
   "metadata": {
    "id": "-G6afssF1o40"
   },
   "source": [
    "Linear regression of LPIPS on gender"
   ]
  },
  {
   "cell_type": "code",
   "execution_count": null,
   "metadata": {
    "id": "LfPzrwqw5we0"
   },
   "outputs": [],
   "source": [
    "X_gender = np.array([[11057/30000],[18943/30000]])\n",
    "Y_gender = df_similarity_gender['LPIPS'].values\n",
    "\n",
    "reg_gender = LinearRegression().fit(X_gender, Y_gender)\n",
    "Y_pred_gender = reg_gender.predict(X_gender)"
   ]
  },
  {
   "cell_type": "code",
   "execution_count": null,
   "metadata": {
    "id": "dx-xdSCGYWu6"
   },
   "outputs": [],
   "source": []
  },
  {
   "cell_type": "code",
   "execution_count": null,
   "metadata": {
    "colab": {
     "base_uri": "https://localhost:8080/",
     "height": 321
    },
    "id": "JvYdrELl1JXC",
    "outputId": "d1dc4709-9df3-4781-b400-d021c8ec106f"
   },
   "outputs": [
    {
     "name": "stdout",
     "output_type": "stream",
     "text": [
      "Coefficients: \n",
      " [-0.00641285]\n",
      "Mean squared error: 0.00\n",
      "Coefficient of determination: 1.00\n"
     ]
    },
    {
     "data": {
      "image/png": "[encoded data removed]",
      "text/plain": [
       "<Figure size 432x288 with 1 Axes>"
      ]
     },
     "metadata": {},
     "output_type": "display_data"
    }
   ],
   "source": [
    "print(\"Coefficients: \\n\", reg_gender.coef_)\n",
    "# The mean squared error\n",
    "print(\"Mean squared error: %.2f\" % mean_squared_error(Y_gender, Y_pred_gender))\n",
    "# The coefficient of determination: 1 is perfect prediction\n",
    "print(\"Coefficient of determination: %.2f\" % r2_score(Y_gender, Y_pred_gender))\n",
    "\n",
    "plt.scatter(X_gender,Y_gender,color='black')\n",
    "plt.plot(X_gender,Y_pred_gender,color='blue',linewidth=3)\n",
    "plt.xticks(())\n",
    "plt.yticks(())\n",
    "\n",
    "plt.show()"
   ]
  },
  {
   "cell_type": "markdown",
   "metadata": {
    "id": "dhTiMZn510vH"
   },
   "source": [
    "Linear regression of SSIM on the age category"
   ]
  },
  {
   "cell_type": "code",
   "execution_count": null,
   "metadata": {
    "id": "d7dCtTCB16_D"
   },
   "outputs": [],
   "source": [
    "X_age = np.array([[44.7],[55.3],[0.]])\n",
    "Y_age = df_similarity_age['SSIM'].values\n",
    "\n",
    "reg = LinearRegression().fit(X_age, Y_age)\n",
    "Y_pred = reg.predict(X_age)"
   ]
  },
  {
   "cell_type": "code",
   "execution_count": null,
   "metadata": {
    "colab": {
     "base_uri": "https://localhost:8080/",
     "height": 321
    },
    "id": "8SsvsBf42HGj",
    "outputId": "91e7481c-c696-46c9-8f24-800a8caa5020"
   },
   "outputs": [
    {
     "name": "stdout",
     "output_type": "stream",
     "text": [
      "Coefficients: \n",
      " [0.00073752]\n",
      "Mean squared error: 0.00\n",
      "Coefficient of determination: 0.87\n"
     ]
    },
    {
     "data": {
      "image/png": "[encoded data removed]",
      "text/plain": [
       "<Figure size 432x288 with 1 Axes>"
      ]
     },
     "metadata": {},
     "output_type": "display_data"
    }
   ],
   "source": [
    "print(\"Coefficients: \\n\", reg.coef_)\n",
    "# The mean squared error\n",
    "print(\"Mean squared error: %.2f\" % mean_squared_error(Y_age, Y_pred))\n",
    "# The coefficient of determination: 1 is perfect prediction\n",
    "print(\"Coefficient of determination: %.2f\" % r2_score(Y_age, Y_pred))\n",
    "\n",
    "plt.scatter(X_age,Y_age,color='black')\n",
    "plt.plot(X_age,Y_pred,color='blue',linewidth=3)\n",
    "plt.xticks(())\n",
    "plt.yticks(())\n",
    "\n",
    "plt.show()"
   ]
  },
  {
   "cell_type": "markdown",
   "metadata": {
    "id": "4uBi-Mwi2TJK"
   },
   "source": [
    "Linear regression of SSIM on the ethnicity"
   ]
  },
  {
   "cell_type": "code",
   "execution_count": null,
   "metadata": {
    "colab": {
     "base_uri": "https://localhost:8080/",
     "height": 321
    },
    "id": "NFN14QRW2J1T",
    "outputId": "7ac8ee29-2f30-4423-8f51-2bbdb4ec0730"
   },
   "outputs": [
    {
     "name": "stdout",
     "output_type": "stream",
     "text": [
      "Coefficients: \n",
      " [0.00020138]\n",
      "Mean squared error: 0.00\n",
      "Coefficient of determination: 0.43\n"
     ]
    },
    {
     "data": {
      "image/png": "[encoded data removed]",
      "text/plain": [
       "<Figure size 432x288 with 1 Axes>"
      ]
     },
     "metadata": {},
     "output_type": "display_data"
    }
   ],
   "source": [
    "X_ethnicity = np.array([[72.9],[4.6],[6.3],[0.9]])\n",
    "Y_ethnicity = df_similarity_ethnicity['SSIM'].values\n",
    "\n",
    "reg_ethnicity = LinearRegression().fit(X_ethnicity, Y_ethnicity)\n",
    "Y_pred_ethnicity = reg_ethnicity.predict(X_ethnicity)\n",
    "\n",
    "print(\"Coefficients: \\n\", reg_ethnicity.coef_)\n",
    "# The mean squared error\n",
    "print(\"Mean squared error: %.2f\" % mean_squared_error(Y_ethnicity, Y_pred_ethnicity))\n",
    "# The coefficient of determination: 1 is perfect prediction\n",
    "print(\"Coefficient of determination: %.2f\" % r2_score(Y_ethnicity, Y_pred_ethnicity))\n",
    "\n",
    "plt.scatter(X_ethnicity,Y_ethnicity,color='black')\n",
    "plt.plot(X_ethnicity,Y_pred_ethnicity,color='blue',linewidth=3)\n",
    "plt.xticks(())\n",
    "plt.yticks(())\n",
    "\n",
    "plt.show()"
   ]
  },
  {
   "cell_type": "markdown",
   "metadata": {
    "id": "hqSlKx_u2awD"
   },
   "source": [
    "Linear regression of SSIM on gender"
   ]
  },
  {
   "cell_type": "code",
   "execution_count": null,
   "metadata": {
    "colab": {
     "base_uri": "https://localhost:8080/",
     "height": 321
    },
    "id": "zhITxP452gEj",
    "outputId": "e4d485a4-d939-49c5-bd1a-ac192fbd97a0"
   },
   "outputs": [
    {
     "name": "stdout",
     "output_type": "stream",
     "text": [
      "Coefficients: \n",
      " [0.02002991]\n",
      "Mean squared error: 0.00\n",
      "Coefficient of determination: 1.00\n"
     ]
    },
    {
     "data": {
      "image/png": "[encoded data removed]",
      "text/plain": [
       "<Figure size 432x288 with 1 Axes>"
      ]
     },
     "metadata": {},
     "output_type": "display_data"
    }
   ],
   "source": [
    "X_gender = np.array([[11057/30000],[18943/30000]])\n",
    "Y_gender = df_similarity_gender['SSIM'].values\n",
    "\n",
    "reg_gender = LinearRegression().fit(X_gender, Y_gender)\n",
    "Y_pred_gender = reg_gender.predict(X_gender)\n",
    "\n",
    "print(\"Coefficients: \\n\", reg_gender.coef_)\n",
    "# The mean squared error\n",
    "print(\"Mean squared error: %.2f\" % mean_squared_error(Y_gender, Y_pred_gender))\n",
    "# The coefficient of determination: 1 is perfect prediction\n",
    "print(\"Coefficient of determination: %.2f\" % r2_score(Y_gender, Y_pred_gender))\n",
    "\n",
    "plt.scatter(X_gender,Y_gender,color='black')\n",
    "plt.plot(X_gender,Y_pred_gender,color='blue',linewidth=3)\n",
    "plt.xticks(())\n",
    "plt.yticks(())\n",
    "\n",
    "plt.show()"
   ]
  },
  {
   "cell_type": "markdown",
   "metadata": {
    "id": "A2nD6pAXXq2P"
   },
   "source": [
    "# Regressions using the median"
   ]
  },
  {
   "cell_type": "code",
   "execution_count": 42,
   "metadata": {
    "id": "wgMPCqphXt8D"
   },
   "outputs": [],
   "source": [
    "df_similarity_gender = df_similarity.groupby('gender').agg('median')\n",
    "\n",
    "df_similarity_ethnicity = df_similarity.groupby('ethnicity').agg('median')\n",
    "\n",
    "df_similarity_age = df_similarity\n",
    "df_similarity_age['age_category'] = df_similarity_age['age'].apply(lambda n:0 if int(n)<30 else 1 if int(n)<60 else 2)\n",
    "df_similarity_age = df_similarity_age.groupby('age_category').agg('median')"
   ]
  },
  {
   "cell_type": "code",
   "execution_count": 43,
   "metadata": {
    "colab": {
     "base_uri": "https://localhost:8080/",
     "height": 321
    },
    "id": "EuDnWXPxYAdH",
    "outputId": "b2f138b1-f092-4378-8cfe-bc4f83b517d7"
   },
   "outputs": [
    {
     "name": "stdout",
     "output_type": "stream",
     "text": [
      "Coefficients: \n",
      " [-0.00026552]\n",
      "Mean squared error: 0.00\n",
      "Coefficient of determination: 0.76\n"
     ]
    },
    {
     "data": {
      "image/png": "[encoded data removed]",
      "text/plain": [
       "<Figure size 432x288 with 1 Axes>"
      ]
     },
     "metadata": {},
     "output_type": "display_data"
    }
   ],
   "source": [
    "X_age = np.array([[44.7],[55.3],[0.]])\n",
    "Y_age = df_similarity_age['LPIPS'].values\n",
    "\n",
    "reg = LinearRegression().fit(X_age, Y_age)\n",
    "Y_pred = reg.predict(X_age)\n",
    "\n",
    "print(\"Coefficients: \\n\", reg.coef_)\n",
    "# The mean squared error\n",
    "print(\"Mean squared error: %.2f\" % mean_squared_error(Y_age, Y_pred))\n",
    "# The coefficient of determination: 1 is perfect prediction\n",
    "print(\"Coefficient of determination: %.2f\" % r2_score(Y_age, Y_pred))\n",
    "\n",
    "plt.scatter(X_age,Y_age,color='black')\n",
    "plt.plot(X_age,Y_pred,color='blue',linewidth=3)\n",
    "plt.xticks(())\n",
    "plt.yticks(())\n",
    "\n",
    "plt.show()"
   ]
  },
  {
   "cell_type": "code",
   "execution_count": 44,
   "metadata": {
    "colab": {
     "base_uri": "https://localhost:8080/",
     "height": 321
    },
    "id": "bYtbJvHhYHYb",
    "outputId": "f39253cc-abc6-41c6-f14c-5c377d6bcc23"
   },
   "outputs": [
    {
     "name": "stdout",
     "output_type": "stream",
     "text": [
      "Coefficients: \n",
      " [-0.00015167]\n",
      "Mean squared error: 0.00\n",
      "Coefficient of determination: 0.39\n"
     ]
    },
    {
     "data": {
      "image/png": "[encoded data removed]",
      "text/plain": [
       "<Figure size 432x288 with 1 Axes>"
      ]
     },
     "metadata": {},
     "output_type": "display_data"
    }
   ],
   "source": [
    "X_ethnicity = np.array([[72.9],[4.6],[6.3],[0.9]])\n",
    "Y_ethnicity = df_similarity_ethnicity['LPIPS'].values\n",
    "\n",
    "reg_ethnicity = LinearRegression().fit(X_ethnicity, Y_ethnicity)\n",
    "Y_pred_ethnicity = reg_ethnicity.predict(X_ethnicity)\n",
    "\n",
    "print(\"Coefficients: \\n\", reg_ethnicity.coef_)\n",
    "# The mean squared error\n",
    "print(\"Mean squared error: %.2f\" % mean_squared_error(Y_ethnicity, Y_pred_ethnicity))\n",
    "# The coefficient of determination: 1 is perfect prediction\n",
    "print(\"Coefficient of determination: %.2f\" % r2_score(Y_ethnicity, Y_pred_ethnicity))\n",
    "\n",
    "plt.scatter(X_ethnicity,Y_ethnicity,color='black')\n",
    "plt.plot(X_ethnicity,Y_pred_ethnicity,color='blue',linewidth=3)\n",
    "plt.xticks(())\n",
    "plt.yticks(())\n",
    "\n",
    "plt.show()"
   ]
  },
  {
   "cell_type": "code",
   "execution_count": 45,
   "metadata": {
    "colab": {
     "base_uri": "https://localhost:8080/",
     "height": 321
    },
    "id": "gUyQS6UdYZQf",
    "outputId": "491cc2f5-2e49-4b1b-ec61-4e9f61495e36"
   },
   "outputs": [
    {
     "name": "stdout",
     "output_type": "stream",
     "text": [
      "Coefficients: \n",
      " [-0.00183394]\n",
      "Mean squared error: 0.00\n",
      "Coefficient of determination: 1.00\n"
     ]
    },
    {
     "data": {
      "image/png": "[encoded data removed]",
      "text/plain": [
       "<Figure size 432x288 with 1 Axes>"
      ]
     },
     "metadata": {},
     "output_type": "display_data"
    }
   ],
   "source": [
    "X_gender = np.array([[11057/30000],[18943/30000]])\n",
    "Y_gender = df_similarity_gender['LPIPS'].values\n",
    "\n",
    "reg_gender = LinearRegression().fit(X_gender, Y_gender)\n",
    "Y_pred_gender = reg_gender.predict(X_gender)\n",
    "\n",
    "print(\"Coefficients: \\n\", reg_gender.coef_)\n",
    "# The mean squared error\n",
    "print(\"Mean squared error: %.2f\" % mean_squared_error(Y_gender, Y_pred_gender))\n",
    "# The coefficient of determination: 1 is perfect prediction\n",
    "print(\"Coefficient of determination: %.2f\" % r2_score(Y_gender, Y_pred_gender))\n",
    "\n",
    "plt.scatter(X_gender,Y_gender,color='black')\n",
    "plt.plot(X_gender,Y_pred_gender,color='blue',linewidth=3)\n",
    "plt.xticks(())\n",
    "plt.yticks(())\n",
    "\n",
    "plt.show()"
   ]
  },
  {
   "cell_type": "code",
   "execution_count": 55,
   "metadata": {
    "colab": {
     "base_uri": "https://localhost:8080/",
     "height": 394
    },
    "id": "cG_HAr0mY49T",
    "outputId": "685cbeb5-d122-44c2-c52e-fa1645ea557f"
   },
   "outputs": [
    {
     "name": "stdout",
     "output_type": "stream",
     "text": [
      "Coefficients: \n",
      " [0.00071892]\n",
      "Mean squared error: 0.00\n",
      "Coefficient of determination: 0.89\n"
     ]
    },
    {
     "data": {
      "image/png": "[encoded data removed]",
      "text/plain": [
       "<Figure size 432x288 with 1 Axes>"
      ]
     },
     "metadata": {
      "needs_background": "light"
     },
     "output_type": "display_data"
    }
   ],
   "source": [
    "X_age = np.array([[44.7],[55.3],[0.]])\n",
    "Y_age = df_similarity_age['SSIM'].values\n",
    "\n",
    "reg = LinearRegression().fit(X_age, Y_age)\n",
    "Y_pred = reg.predict(X_age)\n",
    "\n",
    "print(\"Coefficients: \\n\", reg.coef_)\n",
    "# The mean squared error\n",
    "print(\"Mean squared error: %.2f\" % mean_squared_error(Y_age, Y_pred))\n",
    "# The coefficient of determination: 1 is perfect prediction\n",
    "print(\"Coefficient of determination: %.2f\" % r2_score(Y_age, Y_pred))\n",
    "\n",
    "plt.scatter(X_age,Y_age,color='black')\n",
    "plt.plot(X_age,Y_pred,color='blue',linewidth=3)\n",
    "\n",
    "plt.xlabel(\"Proportion of samples of the training set belonging to the age category (%)\")\n",
    "plt.ylabel(\"Median SSIM\")\n",
    "plt.title(f\"Regression of the median SSIM between inpainted and original images\\n over an age category over the proportion of samples of the training set\\n belonging to this age category (R²={r2_score(Y_age, Y_pred)})\")\n",
    "\n",
    "plt.show()"
   ]
  },
  {
   "cell_type": "code",
   "execution_count": 54,
   "metadata": {
    "colab": {
     "base_uri": "https://localhost:8080/",
     "height": 394
    },
    "id": "x2FgHLYwZFU8",
    "outputId": "eb3f99a4-9286-4a6b-e740-c45ce3613f7f"
   },
   "outputs": [
    {
     "name": "stdout",
     "output_type": "stream",
     "text": [
      "Coefficients: \n",
      " [0.00016211]\n",
      "Mean squared error: 0.00\n",
      "Coefficient of determination: 0.55\n"
     ]
    },
    {
     "data": {
      "image/png": "[encoded data removed]",
      "text/plain": [
       "<Figure size 432x288 with 1 Axes>"
      ]
     },
     "metadata": {
      "needs_background": "light"
     },
     "output_type": "display_data"
    }
   ],
   "source": [
    "X_ethnicity = np.array([[72.9],[4.6],[6.3],[0.9]])\n",
    "Y_ethnicity = df_similarity_ethnicity['SSIM'].values\n",
    "\n",
    "reg_ethnicity = LinearRegression().fit(X_ethnicity, Y_ethnicity)\n",
    "Y_pred_ethnicity = reg_ethnicity.predict(X_ethnicity)\n",
    "\n",
    "print(\"Coefficients: \\n\", reg_ethnicity.coef_)\n",
    "# The mean squared error\n",
    "print(\"Mean squared error: %.2f\" % mean_squared_error(Y_ethnicity, Y_pred_ethnicity))\n",
    "# The coefficient of determination: 1 is perfect prediction\n",
    "print(\"Coefficient of determination: %.2f\" % r2_score(Y_ethnicity, Y_pred_ethnicity))\n",
    "\n",
    "plt.scatter(X_ethnicity,Y_ethnicity,color='black')\n",
    "plt.plot(X_ethnicity,Y_pred_ethnicity,color='blue',linewidth=3)\n",
    "\n",
    "plt.xlabel(\"Proportion of samples of the training set belonging to the ethnicity category (%)\")\n",
    "plt.ylabel(\"Median SSIM\")\n",
    "plt.title(f\"Regression of the median SSIM between inpainted and original images\\n over an ethnicity category over the proportion of samples of the training set\\n belonging to this ethnicity category (R²={r2_score(Y_ethnicity, Y_pred_ethnicity)})\")\n",
    "\n",
    "\n",
    "plt.show()"
   ]
  },
  {
   "cell_type": "code",
   "execution_count": 56,
   "metadata": {
    "colab": {
     "base_uri": "https://localhost:8080/",
     "height": 394
    },
    "id": "rwD2fOcKZOIR",
    "outputId": "09803a89-a54d-4162-c00f-11d1bf745ab3"
   },
   "outputs": [
    {
     "name": "stdout",
     "output_type": "stream",
     "text": [
      "Coefficients: \n",
      " [0.02993002]\n",
      "Mean squared error: 0.00\n",
      "Coefficient of determination: 1.00\n"
     ]
    },
    {
     "data": {
      "image/png": "[encoded data removed]",
      "text/plain": [
       "<Figure size 432x288 with 1 Axes>"
      ]
     },
     "metadata": {
      "needs_background": "light"
     },
     "output_type": "display_data"
    }
   ],
   "source": [
    "X_gender = np.array([[11057/30000],[18943/30000]])\n",
    "Y_gender = df_similarity_gender['SSIM'].values\n",
    "\n",
    "reg_gender = LinearRegression().fit(X_gender, Y_gender)\n",
    "Y_pred_gender = reg_gender.predict(X_gender)\n",
    "\n",
    "print(\"Coefficients: \\n\", reg_gender.coef_)\n",
    "# The mean squared error\n",
    "print(\"Mean squared error: %.2f\" % mean_squared_error(Y_gender, Y_pred_gender))\n",
    "# The coefficient of determination: 1 is perfect prediction\n",
    "print(\"Coefficient of determination: %.2f\" % r2_score(Y_gender, Y_pred_gender))\n",
    "\n",
    "plt.scatter(X_gender,Y_gender,color='black')\n",
    "plt.plot(X_gender,Y_pred_gender,color='blue',linewidth=3)\n",
    "\n",
    "plt.xlabel(\"Proportion of samples of the training set belonging to the gender (%)\")\n",
    "plt.ylabel(\"Median SSIM\")\n",
    "plt.title(f\"Regression of the median SSIM between inpainted and original images\\n over a gender over the proportion of samples of the training set\\n belonging to this gender (R²={r2_score(Y_gender, Y_pred_gender)})\")\n",
    "\n",
    "\n",
    "plt.show()"
   ]
  }
 ],
 "metadata": {
  "accelerator": "GPU",
  "colab": {
   "provenance": []
  },
  "gpuClass": "standard",
  "kernelspec": {
   "display_name": "Python 3",
   "language": "python",
   "name": "python3"
  },
  "language_info": {
   "codemirror_mode": {
    "name": "ipython",
    "version": 3
   },
   "file_extension": ".py",
   "mimetype": "text/x-python",
   "name": "python",
   "nbconvert_exporter": "python",
   "pygments_lexer": "ipython3",
   "version": "3.8.8"
  },
  "widgets": {
   "application/vnd.jupyter.widget-state+json": {
    "0a059e4caad54bc196b1eccd447ff223": {
     "model_module": "@jupyter-widgets/controls",
     "model_module_version": "1.5.0",
     "model_name": "ProgressStyleModel",
     "state": {
      "_model_module": "@jupyter-widgets/controls",
      "_model_module_version": "1.5.0",
      "_model_name": "ProgressStyleModel",
      "_view_count": null,
      "_view_module": "@jupyter-widgets/base",
      "_view_module_version": "1.2.0",
      "_view_name": "StyleView",
      "bar_color": null,
      "description_width": ""
     }
    },
    "2e7247a4c0e8460e84af678780e5c95c": {
     "model_module": "@jupyter-widgets/base",
     "model_module_version": "1.2.0",
     "model_name": "LayoutModel",
     "state": {
      "_model_module": "@jupyter-widgets/base",
      "_model_module_version": "1.2.0",
      "_model_name": "LayoutModel",
      "_view_count": null,
      "_view_module": "@jupyter-widgets/base",
      "_view_module_version": "1.2.0",
      "_view_name": "LayoutView",
      "align_content": null,
      "align_items": null,
      "align_self": null,
      "border": null,
      "bottom": null,
      "display": null,
      "flex": null,
      "flex_flow": null,
      "grid_area": null,
      "grid_auto_columns": null,
      "grid_auto_flow": null,
      "grid_auto_rows": null,
      "grid_column": null,
      "grid_gap": null,
      "grid_row": null,
      "grid_template_areas": null,
      "grid_template_columns": null,
      "grid_template_rows": null,
      "height": null,
      "justify_content": null,
      "justify_items": null,
      "left": null,
      "margin": null,
      "max_height": null,
      "max_width": null,
      "min_height": null,
      "min_width": null,
      "object_fit": null,
      "object_position": null,
      "order": null,
      "overflow": null,
      "overflow_x": null,
      "overflow_y": null,
      "padding": null,
      "right": null,
      "top": null,
      "visibility": null,
      "width": null
     }
    },
    "3004c4ea906548d89991a388d7b52853": {
     "model_module": "@jupyter-widgets/base",
     "model_module_version": "1.2.0",
     "model_name": "LayoutModel",
     "state": {
      "_model_module": "@jupyter-widgets/base",
      "_model_module_version": "1.2.0",
      "_model_name": "LayoutModel",
      "_view_count": null,
      "_view_module": "@jupyter-widgets/base",
      "_view_module_version": "1.2.0",
      "_view_name": "LayoutView",
      "align_content": null,
      "align_items": null,
      "align_self": null,
      "border": null,
      "bottom": null,
      "display": null,
      "flex": null,
      "flex_flow": null,
      "grid_area": null,
      "grid_auto_columns": null,
      "grid_auto_flow": null,
      "grid_auto_rows": null,
      "grid_column": null,
      "grid_gap": null,
      "grid_row": null,
      "grid_template_areas": null,
      "grid_template_columns": null,
      "grid_template_rows": null,
      "height": null,
      "justify_content": null,
      "justify_items": null,
      "left": null,
      "margin": null,
      "max_height": null,
      "max_width": null,
      "min_height": null,
      "min_width": null,
      "object_fit": null,
      "object_position": null,
      "order": null,
      "overflow": null,
      "overflow_x": null,
      "overflow_y": null,
      "padding": null,
      "right": null,
      "top": null,
      "visibility": null,
      "width": null
     }
    },
    "4e4101f30c4d424bb5546a339aecdba9": {
     "model_module": "@jupyter-widgets/base",
     "model_module_version": "1.2.0",
     "model_name": "LayoutModel",
     "state": {
      "_model_module": "@jupyter-widgets/base",
      "_model_module_version": "1.2.0",
      "_model_name": "LayoutModel",
      "_view_count": null,
      "_view_module": "@jupyter-widgets/base",
      "_view_module_version": "1.2.0",
      "_view_name": "LayoutView",
      "align_content": null,
      "align_items": null,
      "align_self": null,
      "border": null,
      "bottom": null,
      "display": null,
      "flex": null,
      "flex_flow": null,
      "grid_area": null,
      "grid_auto_columns": null,
      "grid_auto_flow": null,
      "grid_auto_rows": null,
      "grid_column": null,
      "grid_gap": null,
      "grid_row": null,
      "grid_template_areas": null,
      "grid_template_columns": null,
      "grid_template_rows": null,
      "height": null,
      "justify_content": null,
      "justify_items": null,
      "left": null,
      "margin": null,
      "max_height": null,
      "max_width": null,
      "min_height": null,
      "min_width": null,
      "object_fit": null,
      "object_position": null,
      "order": null,
      "overflow": null,
      "overflow_x": null,
      "overflow_y": null,
      "padding": null,
      "right": null,
      "top": null,
      "visibility": null,
      "width": null
     }
    },
    "5e65baa512f84377aa4cddf643dede45": {
     "model_module": "@jupyter-widgets/controls",
     "model_module_version": "1.5.0",
     "model_name": "DescriptionStyleModel",
     "state": {
      "_model_module": "@jupyter-widgets/controls",
      "_model_module_version": "1.5.0",
      "_model_name": "DescriptionStyleModel",
      "_view_count": null,
      "_view_module": "@jupyter-widgets/base",
      "_view_module_version": "1.2.0",
      "_view_name": "StyleView",
      "description_width": ""
     }
    },
    "9d3210275c26404e83d4d3d17286aa00": {
     "model_module": "@jupyter-widgets/controls",
     "model_module_version": "1.5.0",
     "model_name": "HTMLModel",
     "state": {
      "_dom_classes": [],
      "_model_module": "@jupyter-widgets/controls",
      "_model_module_version": "1.5.0",
      "_model_name": "HTMLModel",
      "_view_count": null,
      "_view_module": "@jupyter-widgets/controls",
      "_view_module_version": "1.5.0",
      "_view_name": "HTMLView",
      "description": "",
      "description_tooltip": null,
      "layout": "IPY_MODEL_2e7247a4c0e8460e84af678780e5c95c",
      "placeholder": "​",
      "style": "IPY_MODEL_5e65baa512f84377aa4cddf643dede45",
      "value": "100%"
     }
    },
    "a30451d393d249688e30b9acebbcb9a2": {
     "model_module": "@jupyter-widgets/controls",
     "model_module_version": "1.5.0",
     "model_name": "FloatProgressModel",
     "state": {
      "_dom_classes": [],
      "_model_module": "@jupyter-widgets/controls",
      "_model_module_version": "1.5.0",
      "_model_name": "FloatProgressModel",
      "_view_count": null,
      "_view_module": "@jupyter-widgets/controls",
      "_view_module_version": "1.5.0",
      "_view_name": "ProgressView",
      "bar_style": "success",
      "description": "",
      "description_tooltip": null,
      "layout": "IPY_MODEL_3004c4ea906548d89991a388d7b52853",
      "max": 553433881,
      "min": 0,
      "orientation": "horizontal",
      "style": "IPY_MODEL_0a059e4caad54bc196b1eccd447ff223",
      "value": 553433881
     }
    },
    "de5780cc07774659b1576b917cabb262": {
     "model_module": "@jupyter-widgets/controls",
     "model_module_version": "1.5.0",
     "model_name": "DescriptionStyleModel",
     "state": {
      "_model_module": "@jupyter-widgets/controls",
      "_model_module_version": "1.5.0",
      "_model_name": "DescriptionStyleModel",
      "_view_count": null,
      "_view_module": "@jupyter-widgets/base",
      "_view_module_version": "1.2.0",
      "_view_name": "StyleView",
      "description_width": ""
     }
    },
    "e1e0b8c044b74428b78fe9433df2c6df": {
     "model_module": "@jupyter-widgets/base",
     "model_module_version": "1.2.0",
     "model_name": "LayoutModel",
     "state": {
      "_model_module": "@jupyter-widgets/base",
      "_model_module_version": "1.2.0",
      "_model_name": "LayoutModel",
      "_view_count": null,
      "_view_module": "@jupyter-widgets/base",
      "_view_module_version": "1.2.0",
      "_view_name": "LayoutView",
      "align_content": null,
      "align_items": null,
      "align_self": null,
      "border": null,
      "bottom": null,
      "display": null,
      "flex": null,
      "flex_flow": null,
      "grid_area": null,
      "grid_auto_columns": null,
      "grid_auto_flow": null,
      "grid_auto_rows": null,
      "grid_column": null,
      "grid_gap": null,
      "grid_row": null,
      "grid_template_areas": null,
      "grid_template_columns": null,
      "grid_template_rows": null,
      "height": null,
      "justify_content": null,
      "justify_items": null,
      "left": null,
      "margin": null,
      "max_height": null,
      "max_width": null,
      "min_height": null,
      "min_width": null,
      "object_fit": null,
      "object_position": null,
      "order": null,
      "overflow": null,
      "overflow_x": null,
      "overflow_y": null,
      "padding": null,
      "right": null,
      "top": null,
      "visibility": null,
      "width": null
     }
    },
    "e66710d79b42415eae8a86e6ad7c7369": {
     "model_module": "@jupyter-widgets/controls",
     "model_module_version": "1.5.0",
     "model_name": "HBoxModel",
     "state": {
      "_dom_classes": [],
      "_model_module": "@jupyter-widgets/controls",
      "_model_module_version": "1.5.0",
      "_model_name": "HBoxModel",
      "_view_count": null,
      "_view_module": "@jupyter-widgets/controls",
      "_view_module_version": "1.5.0",
      "_view_name": "HBoxView",
      "box_style": "",
      "children": [
       "IPY_MODEL_9d3210275c26404e83d4d3d17286aa00",
       "IPY_MODEL_a30451d393d249688e30b9acebbcb9a2",
       "IPY_MODEL_f6bd763f6d8d46d8b89e529044ea6ed1"
      ],
      "layout": "IPY_MODEL_e1e0b8c044b74428b78fe9433df2c6df"
     }
    },
    "f6bd763f6d8d46d8b89e529044ea6ed1": {
     "model_module": "@jupyter-widgets/controls",
     "model_module_version": "1.5.0",
     "model_name": "HTMLModel",
     "state": {
      "_dom_classes": [],
      "_model_module": "@jupyter-widgets/controls",
      "_model_module_version": "1.5.0",
      "_model_name": "HTMLModel",
      "_view_count": null,
      "_view_module": "@jupyter-widgets/controls",
      "_view_module_version": "1.5.0",
      "_view_name": "HTMLView",
      "description": "",
      "description_tooltip": null,
      "layout": "IPY_MODEL_4e4101f30c4d424bb5546a339aecdba9",
      "placeholder": "​",
      "style": "IPY_MODEL_de5780cc07774659b1576b917cabb262",
      "value": " 528M/528M [00:06&lt;00:00, 90.9MB/s]"
     }
    }
   }
  }
 },
 "nbformat": 4,
 "nbformat_minor": 1
}
